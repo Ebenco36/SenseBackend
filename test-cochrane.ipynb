{
 "cells": [
  {
   "cell_type": "markdown",
   "metadata": {},
   "source": [
    "### Fetch Data from Hosts Online"
   ]
  },
  {
   "cell_type": "code",
   "execution_count": 2,
   "metadata": {},
   "outputs": [
    {
     "ename": "ImportError",
     "evalue": "cannot import name 'GeneralPDFWebScraper' from 'src.Services' (/Users/AwotoroE-Dev/Desktop/DBMerge/src/Services/__init__.py)",
     "output_type": "error",
     "traceback": [
      "\u001b[0;31m---------------------------------------------------------------------------\u001b[0m",
      "\u001b[0;31mImportError\u001b[0m                               Traceback (most recent call last)",
      "Cell \u001b[0;32mIn[2], line 1\u001b[0m\n\u001b[0;32m----> 1\u001b[0m \u001b[38;5;28;01mfrom\u001b[39;00m \u001b[38;5;21;01msrc\u001b[39;00m\u001b[38;5;21;01m.\u001b[39;00m\u001b[38;5;21;01mapi_utils\u001b[39;00m \u001b[38;5;28;01mimport\u001b[39;00m embase_access, ilove_access, cochrane_access, medline_access, ovid_access, medline_class_access, ovid_new_access\n",
      "File \u001b[0;32m~/Desktop/DBMerge/src/api_utils.py:10\u001b[0m\n\u001b[1;32m      8\u001b[0m \u001b[38;5;28;01mfrom\u001b[39;00m \u001b[38;5;21;01murllib\u001b[39;00m\u001b[38;5;21;01m.\u001b[39;00m\u001b[38;5;21;01mparse\u001b[39;00m \u001b[38;5;28;01mimport\u001b[39;00m urljoin\n\u001b[1;32m      9\u001b[0m \u001b[38;5;28;01mfrom\u001b[39;00m \u001b[38;5;21;01msrc\u001b[39;00m\u001b[38;5;21;01m.\u001b[39;00m\u001b[38;5;21;01mRequest\u001b[39;00m\u001b[38;5;21;01m.\u001b[39;00m\u001b[38;5;21;01mHeaders\u001b[39;00m \u001b[38;5;28;01mimport\u001b[39;00m headers\n\u001b[0;32m---> 10\u001b[0m \u001b[38;5;28;01mfrom\u001b[39;00m \u001b[38;5;21;01msrc\u001b[39;00m\u001b[38;5;21;01m.\u001b[39;00m\u001b[38;5;21;01mServices\u001b[39;00m \u001b[38;5;28;01mimport\u001b[39;00m GeneralPDFWebScraper, Service\n\u001b[1;32m     11\u001b[0m \u001b[38;5;28;01mfrom\u001b[39;00m \u001b[38;5;21;01msrc\u001b[39;00m\u001b[38;5;21;01m.\u001b[39;00m\u001b[38;5;21;01mUtils\u001b[39;00m\u001b[38;5;21;01m.\u001b[39;00m\u001b[38;5;21;01mHelpers\u001b[39;00m \u001b[38;5;28;01mimport\u001b[39;00m (\n\u001b[1;32m     12\u001b[0m     format_text_to_json,\n\u001b[1;32m     13\u001b[0m )\n\u001b[1;32m     14\u001b[0m \u001b[38;5;28;01mfrom\u001b[39;00m \u001b[38;5;21;01msrc\u001b[39;00m\u001b[38;5;21;01m.\u001b[39;00m\u001b[38;5;21;01mServices\u001b[39;00m\u001b[38;5;21;01m.\u001b[39;00m\u001b[38;5;21;01mFactories\u001b[39;00m\u001b[38;5;21;01m.\u001b[39;00m\u001b[38;5;21;01mServiceFactory\u001b[39;00m \u001b[38;5;28;01mimport\u001b[39;00m ServiceFactory\n",
      "\u001b[0;31mImportError\u001b[0m: cannot import name 'GeneralPDFWebScraper' from 'src.Services' (/Users/AwotoroE-Dev/Desktop/DBMerge/src/Services/__init__.py)"
     ]
    }
   ],
   "source": [
    "from src.api_utils import embase_access, ilove_access, cochrane_access, medline_access, ovid_access, medline_class_access, ovid_new_access\n"
   ]
  },
  {
   "cell_type": "code",
   "execution_count": null,
   "metadata": {},
   "outputs": [
    {
     "name": "stdout",
     "output_type": "stream",
     "text": [
      "Validation result: [{'isValid': True, 'error': '', 'rowIndex': 1, 'locale': 'en_US', 'warning': False}]\n",
      "Page 1 saved to Cochrane/data/cochrane_page_1.csv\n",
      "Combined CSV file saved as 'Cochrane/cochrane_combined_output.csv'\n",
      "Page 2 saved to Cochrane/data/cochrane_page_2.csv\n",
      "Combined CSV file saved as 'Cochrane/cochrane_combined_output.csv'\n",
      "No more pages.\n"
     ]
    }
   ],
   "source": [
    "cochrane_service = cochrane_access()\n",
    "cochrane_service"
   ]
  },
  {
   "cell_type": "code",
   "execution_count": null,
   "metadata": {},
   "outputs": [],
   "source": [
    "ilove_access()"
   ]
  },
  {
   "cell_type": "code",
   "execution_count": null,
   "metadata": {},
   "outputs": [],
   "source": [
    "medline_class_access()"
   ]
  },
  {
   "cell_type": "code",
   "execution_count": null,
   "metadata": {},
   "outputs": [],
   "source": [
    "ovid_access()"
   ]
  },
  {
   "cell_type": "code",
   "execution_count": null,
   "metadata": {},
   "outputs": [
    {
     "name": "stdout",
     "output_type": "stream",
     "text": [
      "Fetching page 1: https://ovidsp.dc1.ovid.com/ovid-new-a/ovidweb.cgi?S=FDLGFPNHNBACLMCJKPIJGHPMHEIJAA00&Get+Bib+Display=Titles%7CB%7CS.sh.62%7C1%7C5&on_msp=1&CitManPrev=S.sh.62%7C1%7C5&sort_by=_default&cmRecords=Ex%3A+1-4%2C+7&results_per_page=5&startRecord=1&FORMAT=title&FIELDS=SELECTED&output+mode=display&WebLinkReturn=Titles%3DB%7CS.sh.62%7C6%7C5&Datalist=S.sh.62%7C1%7C5&gsrd_params=S.sh.62%7C1%7C5%7C&analytics_display=msp&startRecord_subfooter=1&SELECT=S.sh.62%7C&issue_record_range=1-21\n",
      "Saved data to OVIDNew/data_2024-11-13/journal_data_page_1.csv\n",
      "Fetching page 2: https://ovidsp.dc1.ovid.com/ovid-new-a/ovidweb.cgi?S=FDLGFPNHNBACLMCJKPIJGHPMHEIJAA00&Get+Bib+Display=Titles%7CF%7CS.sh.62%7C6%7C5&on_msp=1&CitManPrev=S.sh.62%7C1%7C5&sort_by=_default&cmRecords=Ex%3A+1-4%2C+7&results_per_page=5&startRecord=6&FORMAT=title&FIELDS=SELECTED&output+mode=display&WebLinkReturn=Titles%3DF%7CS.sh.62%7C11%7C5&Datalist=S.sh.62%7C1%7C5&gsrd_params=S.sh.62%7C1%7C5%7C&analytics_display=msp&startRecord_subfooter=6&SELECT=S.sh.62%7C&issue_record_range=1-21\n",
      "Saved data to OVIDNew/data_2024-11-13/journal_data_page_2.csv\n",
      "Fetching page 3: https://ovidsp.dc1.ovid.com/ovid-new-a/ovidweb.cgi?S=FDLGFPNHNBACLMCJKPIJGHPMHEIJAA00&Get+Bib+Display=Titles%7CB%7CS.sh.62%7C11%7C5&on_msp=1&CitManPrev=S.sh.62%7C1%7C5&sort_by=_default&cmRecords=Ex%3A+1-4%2C+7&results_per_page=5&startRecord=11&FORMAT=title&FIELDS=SELECTED&output+mode=display&WebLinkReturn=Titles%3DB%7CS.sh.62%7C16%7C5&Datalist=S.sh.62%7C1%7C5&gsrd_params=S.sh.62%7C1%7C5%7C&analytics_display=msp&startRecord_subfooter=11&SELECT=S.sh.62%7C&issue_record_range=1-21\n",
      "Saved data to OVIDNew/data_2024-11-13/journal_data_page_3.csv\n",
      "Fetching page 4: https://ovidsp.dc1.ovid.com/ovid-new-a/ovidweb.cgi?S=FDLGFPNHNBACLMCJKPIJGHPMHEIJAA00&Get+Bib+Display=Titles%7CF%7CS.sh.62%7C16%7C5&on_msp=1&CitManPrev=S.sh.62%7C1%7C5&sort_by=_default&cmRecords=Ex%3A+1-4%2C+7&results_per_page=5&startRecord=16&FORMAT=title&FIELDS=SELECTED&output+mode=display&WebLinkReturn=Titles%3DF%7CS.sh.62%7C21%7C5&Datalist=S.sh.62%7C1%7C5&gsrd_params=S.sh.62%7C1%7C5%7C&analytics_display=msp&startRecord_subfooter=16&SELECT=S.sh.62%7C&issue_record_range=1-21\n",
      "Saved data to OVIDNew/data_2024-11-13/journal_data_page_4.csv\n",
      "No more pages available.\n",
      "All CSV files merged into OVIDNew/merged_journal_data_2024-11-13.csv\n"
     ]
    }
   ],
   "source": [
    "ovid_new_access()"
   ]
  },
  {
   "cell_type": "code",
   "execution_count": 2,
   "metadata": {},
   "outputs": [
    {
     "name": "stdout",
     "output_type": "stream",
     "text": [
      "https://www.tandfonline.com/doi/full/10.1080/13648470.2024.2397921\n"
     ]
    }
   ],
   "source": [
    "from src.Utils.Helpers import get_final_url, guess_host, get_final_redirected_url\n",
    "\n",
    "usl = get_final_url(\"https://www.tandfonline.com/doi/full/10.1080/13648470.2024.2397921\")\n",
    "print(get_final_redirected_url(usl))\n",
    "\n",
    "\n"
   ]
  },
  {
   "cell_type": "code",
   "execution_count": 1,
   "metadata": {},
   "outputs": [
    {
     "name": "stdout",
     "output_type": "stream",
     "text": [
      "https://www.cochranelibrary.com/cdsr/doi/10.1002/14651858.CD006207.pub6/pdf/CDSR/CD006207/CD006207.pdf\n",
      "https://www.cochranelibrary.com/cdsr/doi/10.1002/14651858.CD013628.pub2/pdf/CDSR/CD013628/CD013628.pdf\n",
      "Column 'Population__HASH__AgeGroup__HASH__Newborn_0-1' already exists in the table 'all_db'.\n",
      "Column 'Population__HASH__AgeGroup__HASH__Children_2-9' already exists in the table 'all_db'.\n",
      "Column 'Population__HASH__AgeGroup__HASH__Adolescents_10-17' already exists in the table 'all_db'.\n",
      "Column 'Population__HASH__AgeGroup__HASH__Adults_18-64' already exists in the table 'all_db'.\n",
      "Column 'Population__HASH__AgeGroup__HASH__OlderAdults_65-10000' already exists in the table 'all_db'.\n",
      "Column 'Population__HASH__SpecificGroup__HASH__HealthcareWorkers' already exists in the table 'all_db'.\n",
      "Column 'Population__HASH__SpecificGroup__HASH__PregnantWomen' already exists in the table 'all_db'.\n",
      "Column 'Population__HASH__SpecificGroup__HASH__ParentsCaregivers' already exists in the table 'all_db'.\n",
      "Column 'Population__HASH__ImmuneStatus__HASH__Immunocompromised' already exists in the table 'all_db'.\n",
      "Column 'Population__HASH__ImmuneStatus__HASH__Healthy' already exists in the table 'all_db'.\n",
      "Error adding column 'Topic__HASH__Efficacy-Effectiveness__HASH__Efficacy-Effectiveness': (psycopg2.errors.DuplicateColumn) column \"Topic__HASH__Efficacy-Effectiveness__HASH__Efficacy-Effectivene\" of relation \"all_db\" already exists\n",
      "\n",
      "[SQL: ALTER TABLE \"all_db\" ADD COLUMN \"Topic__HASH__Efficacy-Effectiveness__HASH__Efficacy-Effectiveness\" VARCHAR]\n",
      "(Background on this error at: https://sqlalche.me/e/14/f405)\n",
      "Column 'Topic__HASH__Safety__HASH__Safety' already exists in the table 'all_db'.\n",
      "Column 'Topic__HASH__Risk-Factor__HASH__Risk-Factor' already exists in the table 'all_db'.\n",
      "Column 'Topic__HASH__Coverage__HASH__Coverage' already exists in the table 'all_db'.\n",
      "Column 'Topic__HASH__Acceptance__HASH__Acceptance' already exists in the table 'all_db'.\n",
      "Column 'Topic__HASH__Administration__HASH__Administration' already exists in the table 'all_db'.\n",
      "Column 'Topic__HASH__Economic-Aspects__HASH__Economic-Aspects' already exists in the table 'all_db'.\n",
      "Column 'Topic__HASH__Modeling__HASH__Modeling' already exists in the table 'all_db'.\n",
      "Column 'Topic__HASH__Ethical-Issues__HASH__Ethical-Issues' already exists in the table 'all_db'.\n",
      "Column 'Outcome__HASH__Infection__HASH__Infection' already exists in the table 'all_db'.\n",
      "Column 'Outcome__HASH__Hospitalization__HASH__Hospitalization' already exists in the table 'all_db'.\n",
      "Column 'Outcome__HASH__ICU__HASH__ICU' already exists in the table 'all_db'.\n",
      "Column 'Outcome__HASH__Death__HASH__Death' already exists in the table 'all_db'.\n",
      "Column 'Reviews__HASH__Reviews__HASH__review' already exists in the table 'all_db'.\n",
      "Column 'Studies__HASH__NoOfStudies__HASH__number_of_studies' already exists in the table 'all_db'.\n",
      "Column 'Studies__HASH__RCT__HASH__RCT_terms' already exists in the table 'all_db'.\n",
      "Column 'Intervention__HASH__Vaccine-preventable-disease__HASH__COVID-19' already exists in the table 'all_db'.\n",
      "Error adding column 'Intervention__HASH__Vaccine-preventable-disease__HASH__Influenza': (psycopg2.errors.DuplicateColumn) column \"Intervention__HASH__Vaccine-preventable-disease__HASH__Influenz\" of relation \"all_db\" already exists\n",
      "\n",
      "[SQL: ALTER TABLE \"all_db\" ADD COLUMN \"Intervention__HASH__Vaccine-preventable-disease__HASH__Influenza\" VARCHAR]\n",
      "(Background on this error at: https://sqlalche.me/e/14/f405)\n",
      "Column 'Intervention__HASH__Vaccine-Options__HASH__Live' already exists in the table 'all_db'.\n",
      "Column 'Id' already exists in the table 'all_db'.\n",
      "Column 'doi' already exists in the table 'all_db'.\n",
      "Column 'doi_url' already exists in the table 'all_db'.\n",
      "Updated record with primary_id = 10\n",
      "Updated record with primary_id = 8\n",
      "Database records have been updated successfully.\n",
      "Column 'Population__HASH__AgeGroup__HASH__Adults_18-64' already exists in the table 'all_db'.\n",
      "Column 'Topic__HASH__Risk-Factor__HASH__Risk-Factor' already exists in the table 'all_db'.\n",
      "Column 'Topic__HASH__Economic-Aspects__HASH__Economic-Aspects' already exists in the table 'all_db'.\n",
      "Column 'Outcome__HASH__Infection__HASH__Infection' already exists in the table 'all_db'.\n",
      "Column 'Outcome__HASH__Hospitalization__HASH__Hospitalization' already exists in the table 'all_db'.\n",
      "Column 'Outcome__HASH__ICU__HASH__ICU' already exists in the table 'all_db'.\n",
      "Column 'Intervention__HASH__Vaccine-preventable-disease__HASH__COVID-19' already exists in the table 'all_db'.\n",
      "Column 'Id' already exists in the table 'all_db'.\n",
      "Column 'doi' already exists in the table 'all_db'.\n",
      "Column 'doi_url' already exists in the table 'all_db'.\n",
      "Column 'Population__HASH__AgeGroup__HASH__Newborn_0-1' already exists in the table 'all_db'.\n",
      "Column 'Population__HASH__AgeGroup__HASH__Children_2-9' already exists in the table 'all_db'.\n",
      "Column 'Population__HASH__AgeGroup__HASH__Adolescents_10-17' already exists in the table 'all_db'.\n",
      "Column 'Population__HASH__AgeGroup__HASH__OlderAdults_65-10000' already exists in the table 'all_db'.\n",
      "Column 'Population__HASH__SpecificGroup__HASH__PregnantWomen' already exists in the table 'all_db'.\n",
      "Column 'Population__HASH__SpecificGroup__HASH__ParentsCaregivers' already exists in the table 'all_db'.\n",
      "Column 'Population__HASH__ImmuneStatus__HASH__Healthy' already exists in the table 'all_db'.\n",
      "Error adding column 'Topic__HASH__Efficacy-Effectiveness__HASH__Efficacy-Effectiveness': (psycopg2.errors.DuplicateColumn) column \"Topic__HASH__Efficacy-Effectiveness__HASH__Efficacy-Effectivene\" of relation \"all_db\" already exists\n",
      "\n",
      "[SQL: ALTER TABLE \"all_db\" ADD COLUMN \"Topic__HASH__Efficacy-Effectiveness__HASH__Efficacy-Effectiveness\" VARCHAR]\n",
      "(Background on this error at: https://sqlalche.me/e/14/f405)\n",
      "Column 'Topic__HASH__Safety__HASH__Safety' already exists in the table 'all_db'.\n",
      "Column 'Topic__HASH__Coverage__HASH__Coverage' already exists in the table 'all_db'.\n",
      "Column 'Topic__HASH__Acceptance__HASH__Acceptance' already exists in the table 'all_db'.\n",
      "Column 'Topic__HASH__Administration__HASH__Administration' already exists in the table 'all_db'.\n",
      "Column 'Topic__HASH__Ethical-Issues__HASH__Ethical-Issues' already exists in the table 'all_db'.\n",
      "Column 'Outcome__HASH__Death__HASH__Death' already exists in the table 'all_db'.\n",
      "Column 'Reviews__HASH__Reviews__HASH__review' already exists in the table 'all_db'.\n",
      "Column 'Studies__HASH__RCT__HASH__RCT_terms' already exists in the table 'all_db'.\n",
      "Error adding column 'Intervention__HASH__Vaccine-preventable-disease__HASH__Influenza': (psycopg2.errors.DuplicateColumn) column \"Intervention__HASH__Vaccine-preventable-disease__HASH__Influenz\" of relation \"all_db\" already exists\n",
      "\n",
      "[SQL: ALTER TABLE \"all_db\" ADD COLUMN \"Intervention__HASH__Vaccine-preventable-disease__HASH__Influenza\" VARCHAR]\n",
      "(Background on this error at: https://sqlalche.me/e/14/f405)\n",
      "Updated record with primary_id = 34977\n",
      "Updated record with primary_id = 34983\n",
      "Database records have been updated successfully.\n",
      "Generated email: jyrfvrbi@gmail.com\n",
      "Generated email: f3hi4h24@gmail.com\n",
      "Error fetching from Unpaywall: 404 Client Error: NOT FOUND for url: https://api.unpaywall.org/v2/10.48047/jcdr.2023.14.08.84?email=f3hi4h24@gmail.com\n",
      "Error fetching PDF content from https://dx.doi.org/10.48047/jcdr.2023.14.08.84: 404 Client Error: Not Found for url: https://dx.doi.org/10.48047/jcdr.2023.14.08.84\n",
      "https://dx.doi.org/10.48047/jcdr.2023.14.08.84\n",
      "Error fetching HTML content: 404 Client Error: Not Found for url: https://dx.doi.org/10.48047/jcdr.2023.14.08.84. But we are trying a different method.\n",
      "https://dx.doi.org/10.48047/jcdr.2023.14.08.84\n",
      "Column 'Population__HASH__ImmuneStatus__HASH__Healthy' already exists in the table 'all_db'.\n",
      "Error adding column 'Topic__HASH__Efficacy-Effectiveness__HASH__Efficacy-Effectiveness': (psycopg2.errors.DuplicateColumn) column \"Topic__HASH__Efficacy-Effectiveness__HASH__Efficacy-Effectivene\" of relation \"all_db\" already exists\n",
      "\n",
      "[SQL: ALTER TABLE \"all_db\" ADD COLUMN \"Topic__HASH__Efficacy-Effectiveness__HASH__Efficacy-Effectiveness\" VARCHAR]\n",
      "(Background on this error at: https://sqlalche.me/e/14/f405)\n",
      "Column 'Topic__HASH__Risk-Factor__HASH__Risk-Factor' already exists in the table 'all_db'.\n",
      "Column 'Topic__HASH__Coverage__HASH__Coverage' already exists in the table 'all_db'.\n",
      "Column 'Topic__HASH__Administration__HASH__Administration' already exists in the table 'all_db'.\n",
      "Column 'Topic__HASH__Economic-Aspects__HASH__Economic-Aspects' already exists in the table 'all_db'.\n",
      "Column 'Outcome__HASH__Infection__HASH__Infection' already exists in the table 'all_db'.\n",
      "Column 'Outcome__HASH__ICU__HASH__ICU' already exists in the table 'all_db'.\n",
      "Column 'Outcome__HASH__Death__HASH__Death' already exists in the table 'all_db'.\n",
      "Column 'Reviews__HASH__Reviews__HASH__review' already exists in the table 'all_db'.\n",
      "Column 'Id' already exists in the table 'all_db'.\n",
      "Column 'doi' already exists in the table 'all_db'.\n",
      "Column 'doi_url' already exists in the table 'all_db'.\n",
      "Updated record with primary_id = 34961\n",
      "Updated record with primary_id = 34962\n",
      "Database records have been updated successfully.\n",
      "Generated email: x9abvxut@gmail.com\n",
      "No open access PDF found for DOI: 10.1016/j.heliyon.2024.e39188. Checking the HTML link...\n",
      "Error fetching PDF content from https://www.cell.com/heliyon/fulltext/S2405-8440(24)15219-X?_returnURL=https%3A%2F%2Flinkinghub.elsevier.com%2Fretrieve%2Fpii%2FS240584402415219X%3Fshowall%3Dtrue&__cf_chl_rt_tk=UgRPCC0OrjscmRPrIAa42CbY6cDAwwB1HptIb0YCSY8-1731767947-1.0.1.1-0q2E_1x7dPtSaQ4cRQD5.teVrnpL2uN0mYl7DD5_2TQ: 403 Client Error: Forbidden for url: https://www.cell.com/heliyon/fulltext/S2405-8440(24)15219-X?_returnURL=https%3A%2F%2Flinkinghub.elsevier.com%2Fretrieve%2Fpii%2FS240584402415219X%3Fshowall%3Dtrue&__cf_chl_rt_tk=UgRPCC0OrjscmRPrIAa42CbY6cDAwwB1HptIb0YCSY8-1731767947-1.0.1.1-0q2E_1x7dPtSaQ4cRQD5.teVrnpL2uN0mYl7DD5_2TQ\n",
      "https://www.cell.com/heliyon/fulltext/S2405-8440(24)15219-X?_returnURL=https%3A%2F%2Flinkinghub.elsevier.com%2Fretrieve%2Fpii%2FS240584402415219X%3Fshowall%3Dtrue&__cf_chl_rt_tk=xd1Y4Q7zCNEeGtsBdJSxYJLYKA7cXzWXQQi6c52ohho-1731767951-1.0.1.1-Loio1lhS3KeIRY9uRonepXK..IxsVNDtbky2syBAKJM\n",
      "Error fetching HTML content: 403 Client Error: Forbidden for url: https://www.cell.com/heliyon/fulltext/S2405-8440(24)15219-X?_returnURL=https%3A%2F%2Flinkinghub.elsevier.com%2Fretrieve%2Fpii%2FS240584402415219X%3Fshowall%3Dtrue&__cf_chl_rt_tk=xd1Y4Q7zCNEeGtsBdJSxYJLYKA7cXzWXQQi6c52ohho-1731767951-1.0.1.1-Loio1lhS3KeIRY9uRonepXK..IxsVNDtbky2syBAKJM. But we are trying a different method.\n",
      "https://www.cell.com/heliyon/fulltext/S2405-8440(24)15219-X?_returnURL=https%3A%2F%2Flinkinghub.elsevier.com%2Fretrieve%2Fpii%2FS240584402415219X%3Fshowall%3Dtrue&__cf_chl_rt_tk=xd1Y4Q7zCNEeGtsBdJSxYJLYKA7cXzWXQQi6c52ohho-1731767951-1.0.1.1-Loio1lhS3KeIRY9uRonepXK..IxsVNDtbky2syBAKJM\n",
      "Column 'Population__HASH__AgeGroup__HASH__Adolescents_10-17' already exists in the table 'all_db'.\n",
      "Column 'Population__HASH__AgeGroup__HASH__Adults_18-64' already exists in the table 'all_db'.\n",
      "Error adding column 'Topic__HASH__Efficacy-Effectiveness__HASH__Efficacy-Effectiveness': (psycopg2.errors.DuplicateColumn) column \"Topic__HASH__Efficacy-Effectiveness__HASH__Efficacy-Effectivene\" of relation \"all_db\" already exists\n",
      "\n",
      "[SQL: ALTER TABLE \"all_db\" ADD COLUMN \"Topic__HASH__Efficacy-Effectiveness__HASH__Efficacy-Effectiveness\" VARCHAR]\n",
      "(Background on this error at: https://sqlalche.me/e/14/f405)\n",
      "Column 'Topic__HASH__Acceptance__HASH__Acceptance' already exists in the table 'all_db'.\n",
      "Column 'Topic__HASH__Economic-Aspects__HASH__Economic-Aspects' already exists in the table 'all_db'.\n",
      "Column 'Topic__HASH__Modeling__HASH__Modeling' already exists in the table 'all_db'.\n",
      "Column 'Reviews__HASH__Reviews__HASH__review' already exists in the table 'all_db'.\n",
      "Column 'Intervention__HASH__Vaccine-preventable-disease__HASH__COVID-19' already exists in the table 'all_db'.\n",
      "Column 'Id' already exists in the table 'all_db'.\n",
      "Column 'doi' already exists in the table 'all_db'.\n",
      "Column 'doi_url' already exists in the table 'all_db'.\n",
      "Column 'Population__HASH__AgeGroup__HASH__Children_2-9' already exists in the table 'all_db'.\n",
      "Column 'Population__HASH__AgeGroup__HASH__OlderAdults_65-10000' already exists in the table 'all_db'.\n",
      "Column 'Population__HASH__SpecificGroup__HASH__HealthcareWorkers' already exists in the table 'all_db'.\n",
      "Column 'Population__HASH__ImmuneStatus__HASH__Healthy' already exists in the table 'all_db'.\n",
      "Column 'Topic__HASH__Risk-Factor__HASH__Risk-Factor' already exists in the table 'all_db'.\n",
      "Column 'Topic__HASH__Coverage__HASH__Coverage' already exists in the table 'all_db'.\n",
      "Column 'Topic__HASH__Administration__HASH__Administration' already exists in the table 'all_db'.\n",
      "Column 'Topic__HASH__Ethical-Issues__HASH__Ethical-Issues' already exists in the table 'all_db'.\n",
      "Column 'Outcome__HASH__Death__HASH__Death' already exists in the table 'all_db'.\n",
      "Updated record with primary_id = 661\n",
      "Updated record with primary_id = 102\n",
      "Database records have been updated successfully.\n"
     ]
    }
   ],
   "source": [
    "from src.Commands.PaperProcessorPipeline import PaperProcessorPipeline\n",
    "if __name__ == \"__main__\":\n",
    "    pipeline = PaperProcessorPipeline(\n",
    "        table_name='all_db',\n",
    "        column_mapping={'Id': 'primary_id'}\n",
    "    )\n",
    "    \n",
    "    sources = [\n",
    "        {\n",
    "            \"query\": \"SELECT primary_id, \\\"DOI\\\" FROM all_db WHERE Source='Cochrane' LIMIT 2\",\n",
    "            \"csv_file_path\": \"output/papers_data\",\n",
    "            \"db_name\": \"Cochrane\"\n",
    "        },\n",
    "        {\n",
    "            \"query\": \"SELECT primary_id, \\\"DOI\\\" FROM all_db WHERE Source='LOVE' LIMIT 2\",\n",
    "            \"csv_file_path\": \"output/papers_data_love\",\n",
    "            \"db_name\": \"LOVE\"\n",
    "        },\n",
    "        {\n",
    "            \"query\": \"SELECT primary_id, \\\"DOI\\\" FROM all_db WHERE Source='OVID' LIMIT 2\",\n",
    "            \"csv_file_path\": \"output/papers_data_OVID\",\n",
    "            \"db_name\": \"OVID\"\n",
    "        },\n",
    "        {\n",
    "            \"query\": \"SELECT primary_id, \\\"DOI\\\" FROM all_db WHERE Source='Medline' LIMIT 2\",\n",
    "            \"csv_file_path\": \"output/papers_data_medline\",\n",
    "            \"db_name\": \"Medline\"\n",
    "        }\n",
    "    ]\n",
    "    \n",
    "    for source in sources:\n",
    "        pipeline.process_source(\n",
    "            query=source[\"query\"],\n",
    "            csv_file_path=source[\"csv_file_path\"],\n",
    "            db_name=source[\"db_name\"]\n",
    "        )\n"
   ]
  },
  {
   "cell_type": "code",
   "execution_count": null,
   "metadata": {},
   "outputs": [],
   "source": []
  }
 ],
 "metadata": {
  "kernelspec": {
   "display_name": "sense_app",
   "language": "python",
   "name": "python3"
  },
  "language_info": {
   "codemirror_mode": {
    "name": "ipython",
    "version": 3
   },
   "file_extension": ".py",
   "mimetype": "text/x-python",
   "name": "python",
   "nbconvert_exporter": "python",
   "pygments_lexer": "ipython3",
   "version": "3.9.19"
  }
 },
 "nbformat": 4,
 "nbformat_minor": 2
}

{
 "cells": [
  {
   "cell_type": "code",
   "execution_count": 2,
   "id": "15a32b52-ae83-4ee9-b84e-eccfbf9b9bb9",
   "metadata": {},
   "outputs": [],
   "source": [
    "import pandas as pd\n",
    "\n",
    "data = pd.read_csv('withFullText.csv')"
   ]
  },
  {
   "cell_type": "code",
   "execution_count": 7,
   "id": "8cadac29-5db5-4059-8374-32177fad1e3f",
   "metadata": {},
   "outputs": [
    {
     "data": {
      "text/plain": [
       "40     Failed to download the PDF from the URL. Statu...\n",
       "41                                                   NaN\n",
       "42                                                   NaN\n",
       "43                                                   NaN\n",
       "44                                                   NaN\n",
       "                             ...                        \n",
       "895    %PDF-1.5\\n%����\\n2 0 obj\\n<>stream\\nx��y|\u0013��?>...\n",
       "896    %PDF-1.5\\n%����\\n2 0 obj\\n<>stream\\nx��y|\u0013��?>...\n",
       "897    \\n\\n\\nThe efficacy and safety of immunotherapy...\n",
       "898                                                  NaN\n",
       "899    %PDF-1.4\\r%����\\r\\n258 0 obj\\r<>\\rendobj\\r    ...\n",
       "Name: full_text, Length: 860, dtype: object"
      ]
     },
     "execution_count": 7,
     "metadata": {},
     "output_type": "execute_result"
    }
   ],
   "source": [
    "data[40:900]['full_text']\n"
   ]
  },
  {
   "cell_type": "code",
   "execution_count": null,
   "id": "8dc21f77-fec8-4d07-928c-2e33d3b269e7",
   "metadata": {},
   "outputs": [],
   "source": []
  }
 ],
 "metadata": {
  "kernelspec": {
   "display_name": "Python 3 (ipykernel)",
   "language": "python",
   "name": "python3"
  },
  "language_info": {
   "codemirror_mode": {
    "name": "ipython",
    "version": 3
   },
   "file_extension": ".py",
   "mimetype": "text/x-python",
   "name": "python",
   "nbconvert_exporter": "python",
   "pygments_lexer": "ipython3",
   "version": "3.10.12"
  }
 },
 "nbformat": 4,
 "nbformat_minor": 5
}

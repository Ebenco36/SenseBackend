{
 "cells": [
  {
   "cell_type": "code",
   "execution_count": 6,
   "id": "15a32b52-ae83-4ee9-b84e-eccfbf9b9bb9",
   "metadata": {},
   "outputs": [],
   "source": [
    "import pandas as pd\n",
    "\n",
    "data = pd.read_csv('Medline/Batches/batch_0.csv')\n",
    "data = data.head()"
   ]
  },
  {
   "cell_type": "code",
   "execution_count": 10,
   "id": "8cadac29-5db5-4059-8374-32177fad1e3f",
   "metadata": {},
   "outputs": [],
   "source": [
    "from src.Utils.Helpers import extract_country, get_region_by_country_name\n",
    "\n",
    "\n",
    "data[[\"OWN\", \"PL \"]]\n",
    "\n",
    "data[\"region\"] = data[\"PL \"].apply(get_region_by_country_name)"
   ]
  },
  {
   "cell_type": "code",
   "execution_count": 12,
   "id": "8dc21f77-fec8-4d07-928c-2e33d3b269e7",
   "metadata": {},
   "outputs": [
    {
     "data": {
      "text/html": [
       "<div>\n",
       "<style scoped>\n",
       "    .dataframe tbody tr th:only-of-type {\n",
       "        vertical-align: middle;\n",
       "    }\n",
       "\n",
       "    .dataframe tbody tr th {\n",
       "        vertical-align: top;\n",
       "    }\n",
       "\n",
       "    .dataframe thead th {\n",
       "        text-align: right;\n",
       "    }\n",
       "</style>\n",
       "<table border=\"1\" class=\"dataframe\">\n",
       "  <thead>\n",
       "    <tr style=\"text-align: right;\">\n",
       "      <th></th>\n",
       "      <th>OWN</th>\n",
       "      <th>PL</th>\n",
       "      <th>region</th>\n",
       "    </tr>\n",
       "  </thead>\n",
       "  <tbody>\n",
       "    <tr>\n",
       "      <th>0</th>\n",
       "      <td>NLM</td>\n",
       "      <td>Switzerland</td>\n",
       "      <td>Europe</td>\n",
       "    </tr>\n",
       "    <tr>\n",
       "      <th>1</th>\n",
       "      <td>NLM</td>\n",
       "      <td>Denmark</td>\n",
       "      <td>Europe</td>\n",
       "    </tr>\n",
       "    <tr>\n",
       "      <th>2</th>\n",
       "      <td>NLM</td>\n",
       "      <td>England</td>\n",
       "      <td>Region not found</td>\n",
       "    </tr>\n",
       "    <tr>\n",
       "      <th>3</th>\n",
       "      <td>NLM</td>\n",
       "      <td>France</td>\n",
       "      <td>Europe</td>\n",
       "    </tr>\n",
       "    <tr>\n",
       "      <th>4</th>\n",
       "      <td>NLM</td>\n",
       "      <td>United States</td>\n",
       "      <td>Americas</td>\n",
       "    </tr>\n",
       "  </tbody>\n",
       "</table>\n",
       "</div>"
      ],
      "text/plain": [
       "   OWN            PL             region\n",
       "0  NLM    Switzerland            Europe\n",
       "1  NLM        Denmark            Europe\n",
       "2  NLM        England  Region not found\n",
       "3  NLM         France            Europe\n",
       "4  NLM  United States          Americas"
      ]
     },
     "execution_count": 12,
     "metadata": {},
     "output_type": "execute_result"
    }
   ],
   "source": [
    "data[[\"OWN\", \"PL \", \"region\"]]"
   ]
  },
  {
   "cell_type": "code",
   "execution_count": 16,
   "metadata": {},
   "outputs": [
    {
     "name": "stderr",
     "output_type": "stream",
     "text": [
      "/var/folders/yn/wljgxb2x5x58r3d6fg3hspf00000gp/T/ipykernel_22158/1288497619.py:7: UserWarning: Could not infer format, so each element will be parsed individually, falling back to `dateutil`. To ensure parsing is consistent and as-expected, please specify a format.\n",
      "  df['year'] = pd.to_datetime(df['publication_date_obj'], errors='coerce').dt.year\n"
     ]
    }
   ],
   "source": [
    "import pandas as pd\n",
    "\n",
    "\n",
    "df = pd.read_csv(\"./Medline/Medline.csv\")\n",
    "# Extract the year and create a new 'Year' column\n",
    "try:\n",
    "    df['year'] = pd.to_datetime(df['publication_date_obj'], errors='coerce').dt.year\n",
    "except (Exception) as e:\n",
    "    pass\n",
    "df.to_csv('./Medline/Medline.csv', index=False)"
   ]
  },
  {
   "cell_type": "code",
   "execution_count": 29,
   "metadata": {},
   "outputs": [
    {
     "name": "stdout",
     "output_type": "stream",
     "text": [
      "Request successful\n",
      "{\"table\":{\"types\":3,\"classtypes\":11,\"superfamilies\":530,\"family\":1090,\"primary_structure\":8915,\"species\":1056,\"membrane\":24,\"structure_stats\":[{\"table\":{\"name\":\"Transmembrane\",\"id\":1,\"primary_structures_count\":6477,\"secondary_representations_count\":3835,\"classes\":[{\"table\":{\"name\":\"Alpha-helical polytopic\",\"id\":1,\"primary_structures_count\":5450,\"secondary_representations_count\":2717}},{\"table\":{\"name\":\"Bitopic proteins\",\"id\":11,\"primary_structures_count\":568,\"secondary_representations_count\":865}},{\"table\":{\"name\":\"Beta-barrel transmembrane\",\"id\":2,\"primary_structures_count\":459,\"secondary_representations_count\":253}}]}},{\"table\":{\"name\":\"Monotopic/peripheral\",\"id\":2,\"primary_structures_count\":1666,\"secondary_representations_count\":3581,\"classes\":[{\"table\":{\"name\":\"All alpha monotopic/peripheral\",\"id\":4,\"primary_structures_count\":366,\"secondary_representations_count\":903}},{\"table\":{\"name\":\"All beta monotopic/peripheral\",\"id\":3,\"primary_structures_count\":634,\"secondary_representations_count\":1356}},{\"table\":{\"name\":\"Alpha/Beta monotopic/peripheral\",\"id\":5,\"primary_structures_count\":372,\"secondary_representations_count\":1012}},{\"table\":{\"name\":\"Alpha + Beta monotopic/peripheral\",\"id\":6,\"primary_structures_count\":294,\"secondary_representations_count\":310}}]}},{\"table\":{\"name\":\"Peptides\",\"id\":3,\"primary_structures_count\":772,\"secondary_representations_count\":542,\"classes\":[{\"table\":{\"name\":\"Alpha-helical peptides\",\"id\":7,\"primary_structures_count\":520,\"secondary_representations_count\":360}},{\"table\":{\"name\":\"Beta-hairpin peptides\",\"id\":9,\"primary_structures_count\":150,\"secondary_representations_count\":108}},{\"table\":{\"name\":\"Beta-helical peptides\",\"id\":8,\"primary_structures_count\":17,\"secondary_representations_count\":19}},{\"table\":{\"name\":\"Peptides of nonregular structure\",\"id\":10,\"primary_structures_count\":85,\"secondary_representations_count\":55}}]}}],\"assembly_superfamilies\":9,\"assembly_families\":19,\"assembly_membrane\":8,\"assembly\":205}}\n"
     ]
    }
   ],
   "source": [
    "import requests\n",
    "\n",
    "headers = {\n",
    "    \"authority\": \"cgopm.cc.lehigh.edu:3000\",\n",
    "    \"method\": \"GET\",\n",
    "    \"scheme\": \"https\",\n",
    "    \"Accept\": \"application/json, text/plain, */*\",\n",
    "    \"Accept-Encoding\": \"gzip, deflate, br\",\n",
    "    \"Accept-Language\": \"en-GB,en-US;q=0.9,en;q=0.8\",\n",
    "    \"Origin\": \"https://opm.phar.umich.edu\",\n",
    "    \"Referer\": \"https://opm.phar.umich.edu/\",\n",
    "    \"Sec-Ch-Ua\": '\"Not A(Brand\";v=\"99\", \"Google Chrome\";v=\"121\", \"Chromium\";v=\"121\"',\n",
    "    \"Sec-Ch-Ua-Mobile\": \"?0\",\n",
    "    \"Sec-Ch-Ua-Platform\": '\"macOS\"',\n",
    "    \"Sec-Fetch-Dest\": \"empty\",\n",
    "    \"Sec-Fetch-Mode\": \"cors\",\n",
    "    \"Sec-Fetch-Site\": \"cross-site\",\n",
    "    \"User-Agent\": \"Mozilla/5.0 (Macintosh; Intel Mac OS X 10_15_7) AppleWebKit/537.36 (KHTML, like Gecko) Chrome/121.0.0.0 Safari/537.36\",\n",
    "}\n",
    "\n",
    "url = \"https://cgopm.cc.lehigh.edu:3000/opm-backend/stats\"\n",
    "\n",
    "try:\n",
    "    response = requests.get(url, headers=headers)\n",
    "    # Check the status code of the response\n",
    "    if response.status_code == 200:\n",
    "        print(\"Request successful\")\n",
    "        print(response.text)\n",
    "    else:\n",
    "        print(f\"Request failed with status code: {response.status_code}\")\n",
    "except Exception as e:\n",
    "    print(f\"An error occurred: {str(e)}\")\n"
   ]
  },
  {
   "cell_type": "code",
   "execution_count": null,
   "metadata": {},
   "outputs": [],
   "source": []
  }
 ],
 "metadata": {
  "kernelspec": {
   "display_name": "Python 3 (ipykernel)",
   "language": "python",
   "name": "python3"
  },
  "language_info": {
   "codemirror_mode": {
    "name": "ipython",
    "version": 3
   },
   "file_extension": ".py",
   "mimetype": "text/x-python",
   "name": "python",
   "nbconvert_exporter": "python",
   "pygments_lexer": "ipython3",
   "version": "3.11.6"
  }
 },
 "nbformat": 4,
 "nbformat_minor": 5
}

{
 "cells": [
  {
   "cell_type": "code",
   "execution_count": 1,
   "metadata": {},
   "outputs": [
    {
     "data": {
      "text/plain": [
       "63"
      ]
     },
     "execution_count": 1,
     "metadata": {},
     "output_type": "execute_result"
    }
   ],
   "source": [
    "len(\"Intervention__HASH__Vaccine-preventable-disease__HASH__Rotaviru\")"
   ]
  },
  {
   "cell_type": "code",
   "execution_count": 4,
   "metadata": {},
   "outputs": [
    {
     "name": "stdout",
     "output_type": "stream",
     "text": [
      "User selection: efficacy\n",
      "Checking column: Newborn_0-1\n",
      "Display: Newborn_0-1, Synonyms: ['newborn', 'babies', 'baby', 'infant', 'toddlers', 'young ones', 'youngsters', 'small children', 'Newborn_0-1']\n",
      "Checking column: Children_2-9\n",
      "Display: Children_2-9, Synonyms: ['child', 'children', 'Children_2-9']\n",
      "Checking column: Adolescents_10-17\n",
      "Display: Adolescents_10-17, Synonyms: ['adolescents', 'adolescent', 'young adults', 'Adolescents_10-17']\n",
      "Checking column: Adults_18-64\n",
      "Display: Adults_18-64, Synonyms: ['adults', 'adult', 'Adults_18-64']\n",
      "Checking column: OlderAdults_65-10000\n",
      "Display: OlderAdults_65-10000, Synonyms: ['elderly', 'older adults', 'OlderAdults_65-10000']\n",
      "Checking column: HealthcareWorkers\n",
      "Display: HealthcareWorkers, Synonyms: ['Physician', 'Nurse', 'Surgeon', 'Dentist', 'Pharmacist', 'Physical Therapist', 'Occupational Therapist', 'Medical Laboratory Technologist', 'Radiologist', 'Dietitian/Nutritionist', 'Respiratory Therapist', 'Speech-Language Pathologist', 'Physician Assistant', 'Nurse Practitioner', 'Certified Nursing Assistant (CNA)', 'Medical Assistant', 'Paramedic/EMT', 'Midwife', 'Psychologist', 'Social Worker (Clinical)', 'Hospital Administrator', 'Medical Researcher', 'Health Educator', 'Orthopedic Technician', 'Optometrist', 'Podiatrist', 'Anesthesiologist', 'Neurologist', 'Cardiologist', 'Gastroenterologist', 'HealthcareWorkers']\n",
      "Checking column: PregnantWomen\n",
      "Display: PregnantWomen, Synonyms: ['pregnant', 'pregnant women', 'PregnantWomen']\n",
      "Checking column: Travellers\n",
      "Display: Travellers, Synonyms: ['traveller', 'Travellers']\n",
      "Checking column: ParentsCaregivers\n",
      "Display: ParentsCaregivers, Synonyms: ['parents', 'caregivers', 'ParentsCaregivers']\n",
      "Checking column: Immunocompromised\n",
      "Display: Immunocompromised, Synonyms: ['immunocompromised', 'Immunocompromised']\n",
      "Checking column: Healthy\n",
      "Display: Healthy, Synonyms: ['healthy', 'Healthy']\n",
      "Checking column: Efficacy-Effectiveness\n",
      "Display: Efficacy-Effectiveness, Synonyms: ['effectiveness', 'impact of', 'effectiveness of', 'efficacy', 'Efficacy-Effectiveness']\n",
      "Matched synonym: efficacy\n",
      "Result: Topic__HASH__Efficacy-Effectiveness__HASH__Efficacy-Effectiveness\n"
     ]
    }
   ],
   "source": [
    "def map_user_selection_to_column(user_selection, structured_data):\n",
    "    \"\"\"\n",
    "    Maps a user's selection to the corresponding column name for database search.\n",
    "\n",
    "    :param user_selection: The term or keyword selected by the user (e.g., \"efficacy\").\n",
    "    :param structured_data: The structured dictionary containing mappings of display values and synonyms.\n",
    "    :return: The original column name from filtered_columns or None if no match is found.\n",
    "    \"\"\"\n",
    "    # Ensure user_selection is lowercased for case-insensitive comparison\n",
    "    user_selection_lower = user_selection.lower()\n",
    "    print(f\"User selection: {user_selection_lower}\")  # Debugging user input\n",
    "\n",
    "    for category, subgroups in structured_data.items():\n",
    "        if not isinstance(subgroups, dict):\n",
    "            print(f\"Skipping invalid subgroups in category {category}\")\n",
    "            continue\n",
    "        for subgroup, values in subgroups.items():\n",
    "            if not isinstance(values, dict):\n",
    "                print(f\"Skipping invalid values in subgroup {subgroup}\")\n",
    "                continue\n",
    "            for column_name, details in values.items():\n",
    "                if not isinstance(details, dict) or \"display\" not in details or \"synonyms\" not in details:\n",
    "                    print(f\"Skipping invalid details for column {column_name}\")\n",
    "                    continue\n",
    "\n",
    "                # Debugging comparisons\n",
    "                print(f\"Checking column: {column_name}\")\n",
    "                print(f\"Display: {details['display']}, Synonyms: {details['synonyms']}\")\n",
    "\n",
    "                # Match against display\n",
    "                if user_selection_lower == details[\"display\"].lower():\n",
    "                    print(f\"Matched display: {details['display']}\")\n",
    "                    return f\"{category}__HASH__{subgroup}__HASH__{column_name}\"\n",
    "\n",
    "                # Match against synonyms\n",
    "                if user_selection_lower in [syn.lower() for syn in details[\"synonyms\"]]:\n",
    "                    print(f\"Matched synonym: {user_selection_lower}\")\n",
    "                    return f\"{category}__HASH__{subgroup}__HASH__{column_name}\"\n",
    "\n",
    "    # If no match is found\n",
    "    print(f\"No match found for user selection: {user_selection_lower}\")\n",
    "    return None\n",
    "\n",
    "\n",
    "user_selection = \"efficacy\"\n",
    "structured_data = {'Population': {'AgeGroup': {'Newborn_0-1': {'display': 'Newborn_0-1', 'synonyms': ['newborn', 'babies', 'baby', 'infant', 'toddlers', 'young ones', 'youngsters', 'small children', 'Newborn_0-1'], 'additional_context': None}, 'Children_2-9': {'display': 'Children_2-9', 'synonyms': ['child', 'children', 'Children_2-9'], 'additional_context': None}, 'Adolescents_10-17': {'display': 'Adolescents_10-17', 'synonyms': ['adolescents', 'adolescent', 'young adults', 'Adolescents_10-17'], 'additional_context': None}, 'Adults_18-64': {'display': 'Adults_18-64', 'synonyms': ['adults', 'adult', 'Adults_18-64'], 'additional_context': None}, 'OlderAdults_65-10000': {'display': 'OlderAdults_65-10000', 'synonyms': ['elderly', 'older adults', 'OlderAdults_65-10000'], 'additional_context': None}}, 'SpecificGroup': {'HealthcareWorkers': {'display': 'HealthcareWorkers', 'synonyms': ['Physician', 'Nurse', 'Surgeon', 'Dentist', 'Pharmacist', 'Physical Therapist', 'Occupational Therapist', 'Medical Laboratory Technologist', 'Radiologist', 'Dietitian/Nutritionist', 'Respiratory Therapist', 'Speech-Language Pathologist', 'Physician Assistant', 'Nurse Practitioner', 'Certified Nursing Assistant (CNA)', 'Medical Assistant', 'Paramedic/EMT', 'Midwife', 'Psychologist', 'Social Worker (Clinical)', 'Hospital Administrator', 'Medical Researcher', 'Health Educator', 'Orthopedic Technician', 'Optometrist', 'Podiatrist', 'Anesthesiologist', 'Neurologist', 'Cardiologist', 'Gastroenterologist', 'HealthcareWorkers'], 'additional_context': None}, 'PregnantWomen': {'display': 'PregnantWomen', 'synonyms': ['pregnant', 'pregnant women', 'PregnantWomen'], 'additional_context': None}, 'Travellers': {'display': 'Travellers', 'synonyms': ['traveller', 'Travellers'], 'additional_context': None}, 'ParentsCaregivers': {'display': 'ParentsCaregivers', 'synonyms': ['parents', 'caregivers', 'ParentsCaregivers'], 'additional_context': None}}, 'ImmuneStatus': {'Immunocompromised': {'display': 'Immunocompromised', 'synonyms': ['immunocompromised', 'Immunocompromised'], 'additional_context': None}, 'Healthy': {'display': 'Healthy', 'synonyms': ['healthy', 'Healthy'], 'additional_context': None}}}, 'Topic': {'Efficacy-Effectiveness': {'Efficacy-Effectiveness': {'display': 'Efficacy-Effectiveness', 'synonyms': ['effectiveness', 'impact of', 'effectiveness of', 'efficacy', 'Efficacy-Effectiveness'], 'additional_context': None}}, 'Safety': {'Safety': {'display': 'Safety', 'synonyms': ['safety', 'adverse effects', 'adverse events', 'Safety'], 'additional_context': None}}, 'Risk-Factor': {'Risk-Factor': {'display': 'Risk-Factor', 'synonyms': ['risk factor', 'risk', 'Risk-Factor'], 'additional_context': None}}, 'Administration': {'Administration': {'display': 'Administration', 'synonyms': ['administration', 'vaccine types', 'dose schedules', 'vaccine types and dose schedules', 'different dose schedules', 'Two doses of', 'Administration'], 'additional_context': None}}, 'Economic-Aspects': {'Economic-Aspects': {'display': 'Economic-Aspects', 'synonyms': ['economic', 'cost', 'financial', 'economic impact', 'cost effectiveness', 'cost-effectiveness', 'cost', 'cost effectiveness', 'economic evaluation', 'Cost-effectiveness of HPV vaccination strategies', 'Economic-Aspects'], 'additional_context': None}}, 'Acceptance': {'Acceptance': {'display': 'Acceptance', 'synonyms': ['acceptance', 'Barrier', 'vaccine barriers', 'knowledge', 'vaccination willingness and intentions', 'HPV vaccine acceptability, acceptability', 'Awareness and knowledge', 'Awareness', 'facilitators of and barriers', 'awareness,knowledge, acceptability, and intention', 'knowledge and acceptability', 'knowledge and awareness', 'attitudes and beliefs', 'Knowledge and Attitude', 'attitude', 'knowledge, awareness, and attitude', 'Acceptance'], 'additional_context': None}}, 'Modeling': {'Modeling': {'display': 'Modeling', 'synonyms': ['modeling', 'Modeling'], 'additional_context': None}}, 'Ethical-Issues': {'Ethical-Issues': {'display': 'Ethical-Issues', 'synonyms': ['racial', 'ethnic', 'ethnic minority', 'racial minority', 'racial/ethnic', 'racial/ethnic minority', 'racial disparity', 'ethnic disparity', 'minority', 'minority population', 'Ethical-Issues'], 'additional_context': None}}, 'Coverage': {'Coverage': {'display': 'Coverage', 'synonyms': ['coverage', 'uptake', 'the uptake', 'actual uptake', 'vaccine uptake', 'Coverage'], 'additional_context': None}}}, 'Outcome': {'Infection': {'Infection': {'display': 'Infection', 'synonyms': ['infection', 'Infection'], 'additional_context': None}}, 'ICU': {'ICU': {'display': 'ICU', 'synonyms': ['ICU', 'intensive care unit', 'intensive care'], 'additional_context': None}}, 'Death': {'Death': {'display': 'Death', 'synonyms': ['death', 'mortality', 'overall mortality', 'cancer related mortality', 'on overall and cancer mortality', 'Death'], 'additional_context': None}}, 'Hospitalization': {'Hospitalization': {'display': 'Hospitalization', 'synonyms': ['hospitalization', 'Hospitalization'], 'additional_context': None}}}, 'Reviews': {'Reviews': {'review': {'display': 'review', 'synonyms': ['systematic review', 'Literature Review', 'review', 'Meta-Analysis', 'Critical Review', 'Peer Review', 'Book Review', 'Editorial Review', 'Review Article'], 'additional_context': None}}}, 'Studies': {'NoOfStudies': {'number_of_studies': {'display': 'number_of_studies', 'synonyms': ['studies', 'studies', 'number_of_studies'], 'additional_context': None}}, 'RCT': {'RCT_terms': {'display': 'RCT_terms', 'synonyms': ['brandomized controlled trial', 'RCT', 'brandomised controlled trial', 'brandomized trial', 'brandomised trial', 'RCT_terms'], 'additional_context': None}}}, 'Intervention': {'Vaccine-preventable-disease': {'COVID-19': {'display': 'COVID-19', 'synonyms': ['COVID-19', 'COVID', 'COVID 19'], 'additional_context': None}, 'Influenza': {'display': 'Influenza', 'synonyms': ['influenza', 'Influenza'], 'additional_context': None}, 'Dengue': {'display': 'Dengue', 'synonyms': ['dengue', 'Dengue'], 'additional_context': None}, 'Rotavirus': {'display': 'Rotavirus', 'synonyms': ['rotavirus', 'Rotavirus'], 'additional_context': None}}, 'Vaccine-Options': {'Live': {'display': 'Live', 'synonyms': ['live', 'Live'], 'additional_context': None}, 'Adjuvants': {'display': 'Adjuvants', 'synonyms': ['adjuvants', 'Adjuvants'], 'additional_context': None}, 'Non-Live': {'display': 'Non-Live', 'synonyms': ['non-live', 'Non-Live'], 'additional_context': None}}}}\n",
    "result = map_user_selection_to_column(user_selection, structured_data)\n",
    "print(f\"Result: {result}\")"
   ]
  },
  {
   "cell_type": "code",
   "execution_count": null,
   "metadata": {},
   "outputs": [],
   "source": []
  }
 ],
 "metadata": {
  "kernelspec": {
   "display_name": "sense-app",
   "language": "python",
   "name": "python3"
  },
  "language_info": {
   "codemirror_mode": {
    "name": "ipython",
    "version": 3
   },
   "file_extension": ".py",
   "mimetype": "text/x-python",
   "name": "python",
   "nbconvert_exporter": "python",
   "pygments_lexer": "ipython3",
   "version": "3.9.19"
  }
 },
 "nbformat": 4,
 "nbformat_minor": 2
}
